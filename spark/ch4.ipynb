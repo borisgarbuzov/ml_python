{
 "cells": [
  {
   "cell_type": "code",
   "execution_count": 1,
   "metadata": {},
   "outputs": [],
   "source": [
    "import findspark\n",
    "findspark.init()\n",
    "from pyspark import SparkConf, SparkContext\n",
    "conf = SparkConf().setMaster(\"local\").setAppName(\"my second app\")\n",
    "sc = SparkContext(conf = conf)\n"
   ]
  },
  {
   "cell_type": "code",
   "execution_count": 2,
   "metadata": {},
   "outputs": [
    {
     "name": "stdout",
     "output_type": "stream",
     "text": [
      "rdd1.collect() = ['key1 word1', 'key2 word2', '']\n",
      "pairs.collect() = [('key1', 'key1 word1'), ('key2', 'key2 word2'), ('', '')]\n",
      "3\n"
     ]
    }
   ],
   "source": [
    "rdd1 = sc.textFile(\"myTextFile.txt\")\n",
    "print(\"rdd1.collect() =\", rdd1.collect())\n",
    "pairs = rdd1.map(lambda x: (x.split(\" \")[0], x))\n",
    "print(\"pairs.collect() =\", pairs.collect())\n",
    "print(\"123\"[2])"
   ]
  },
  {
   "cell_type": "code",
   "execution_count": 3,
   "metadata": {},
   "outputs": [
    {
     "name": "stdout",
     "output_type": "stream",
     "text": [
      "exampleRdd.collect() = [[1, 2], [3, 4], [3, 6], [3, 7]]\n",
      "examplePairs.collect() = [(1, 2), (3, 4), (3, 6), (3, 7)]\n"
     ]
    }
   ],
   "source": [
    "exampleRdd = sc.parallelize([[1, 2], [3, 4], [3, 6], [3, 7]])\n",
    "print(\"exampleRdd.collect() =\", exampleRdd.collect())\n",
    "examplePairs = exampleRdd.map(lambda x: (x[0], x[1]))\n",
    "print(\"examplePairs.collect() =\", examplePairs.collect())"
   ]
  },
  {
   "cell_type": "code",
   "execution_count": 4,
   "metadata": {},
   "outputs": [
    {
     "name": "stdout",
     "output_type": "stream",
     "text": [
      "newRdd.collect() = [(1, 2), (3, 17)]\n"
     ]
    }
   ],
   "source": [
    "newRdd = examplePairs.reduceByKey(lambda x, y: x + y)\n",
    "print(\"newRdd.collect() =\", newRdd.collect())"
   ]
  },
  {
   "cell_type": "code",
   "execution_count": 5,
   "metadata": {},
   "outputs": [
    {
     "name": "stdout",
     "output_type": "stream",
     "text": [
      "newRdd2: [(1, [2]), (3, [4, 6, 7])]\n"
     ]
    }
   ],
   "source": [
    "newRdd2 = examplePairs.groupByKey().map(lambda x: (x[0], list(x[1])))\n",
    "print(\"newRdd2:\", newRdd2.collect())"
   ]
  },
  {
   "cell_type": "code",
   "execution_count": 6,
   "metadata": {},
   "outputs": [
    {
     "name": "stdout",
     "output_type": "stream",
     "text": [
      "newRdd3.collect() = [(1, 3), (3, 5), (3, 7), (3, 8)]\n"
     ]
    }
   ],
   "source": [
    "newRdd3 = examplePairs.mapValues(lambda x: x + 1)\n",
    "print(\"newRdd3.collect() =\", newRdd3.collect())"
   ]
  },
  {
   "cell_type": "code",
   "execution_count": 10,
   "metadata": {},
   "outputs": [
    {
     "name": "stdout",
     "output_type": "stream",
     "text": [
      "newRdd4.collect() = [(1, 3), (3, 5), (3, 7), (3, 8)]\n"
     ]
    }
   ],
   "source": [
    "newRdd4 = examplePairs.map(lambda x: (x[0], x[1] + 1))\n",
    "print(\"newRdd4.collect() =\", newRdd4.collect())"
   ]
  },
  {
   "cell_type": "code",
   "execution_count": 12,
   "metadata": {},
   "outputs": [
    {
     "name": "stdout",
     "output_type": "stream",
     "text": [
      "examplePairs.collect(): [(1, 2), (3, 4), (3, 6), (3, 7)]\n",
      "newRdd5.collect() = [1, 3, 3, 5, 3, 7, 3, 8]\n"
     ]
    }
   ],
   "source": [
    "print(\"examplePairs.collect():\", examplePairs.collect())\n",
    "newRdd5 = examplePairs.flatMap(lambda x: (x[0], x[1] + 1))\n",
    "print(\"newRdd5.collect() =\", newRdd5.collect())"
   ]
  },
  {
   "cell_type": "code",
   "execution_count": null,
   "metadata": {},
   "outputs": [],
   "source": []
  }
 ],
 "metadata": {
  "kernelspec": {
   "display_name": "Python 3",
   "language": "python",
   "name": "python3"
  },
  "language_info": {
   "codemirror_mode": {
    "name": "ipython",
    "version": 3
   },
   "file_extension": ".py",
   "mimetype": "text/x-python",
   "name": "python",
   "nbconvert_exporter": "python",
   "pygments_lexer": "ipython3",
   "version": "3.7.3"
  }
 },
 "nbformat": 4,
 "nbformat_minor": 2
}
