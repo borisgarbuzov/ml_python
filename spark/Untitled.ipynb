{
 "cells": [
  {
   "cell_type": "code",
   "execution_count": 1,
   "metadata": {},
   "outputs": [],
   "source": [
    "import findspark\n",
    "findspark.init()\n"
   ]
  },
  {
   "cell_type": "code",
   "execution_count": 8,
   "metadata": {},
   "outputs": [
    {
     "name": "stdout",
     "output_type": "stream",
     "text": [
      "rdd1.glom().collect() = [[1], [2, 3], [4, 5], [6], [7, 8], [9, 10]]\n"
     ]
    }
   ],
   "source": [
    "from pyspark import SparkContext\n",
    "sc1 = \"\"\n",
    "with SparkContext(\"local[6]\") as sc:\n",
    "    sc1 = sc\n",
    "    rdd1 = sc1.parallelize(range(1, 11))\n",
    "    print(\"rdd1.glom().collect() =\", rdd1.glom().collect())\n",
    "\n",
    "    \n",
    "    \n",
    "    "
   ]
  },
  {
   "cell_type": "code",
   "execution_count": 20,
   "metadata": {},
   "outputs": [
    {
     "name": "stdout",
     "output_type": "stream",
     "text": [
      "rdd2.glom().collect() = [[(4, 1), (8, 1)], [(1, 1), (5, 1), (9, 1)], [(2, 1), (6, 1), (10, 1)], [(3, 1), (7, 1)]]\n",
      "rdd2.collect() = [(4, 1), (8, 1), (1, 1), (5, 1), (9, 1), (2, 1), (6, 1), (10, 1), (3, 1), (7, 1)]\n"
     ]
    }
   ],
   "source": [
    "with SparkContext(\"local[6]\") as sc:\n",
    "    rdd1 = sc.parallelize(range(1, 11))\n",
    "    # to apply partitionBy, the object should be of paird Rdd type\n",
    "    pairedRdd = rdd1.map(lambda x: (x, 1))\n",
    "    rdd2 = pairedRdd.partitionBy(4)\n",
    "    #print(\"rdd2.take(5) =\", rdd2.take(5))\n",
    "    print(\"rdd2.glom().collect() =\", rdd2.glom().collect())\n",
    "    print(\"rdd2.collect() =\", rdd2.collect())\n",
    "     "
   ]
  },
  {
   "cell_type": "code",
   "execution_count": null,
   "metadata": {},
   "outputs": [],
   "source": []
  }
 ],
 "metadata": {
  "kernelspec": {
   "display_name": "Python 3",
   "language": "python",
   "name": "python3"
  },
  "language_info": {
   "codemirror_mode": {
    "name": "ipython",
    "version": 3
   },
   "file_extension": ".py",
   "mimetype": "text/x-python",
   "name": "python",
   "nbconvert_exporter": "python",
   "pygments_lexer": "ipython3",
   "version": "3.7.3"
  }
 },
 "nbformat": 4,
 "nbformat_minor": 2
}
