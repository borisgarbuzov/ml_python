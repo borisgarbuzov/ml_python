{
 "cells": [
  {
   "cell_type": "code",
   "execution_count": 1,
   "metadata": {},
   "outputs": [
    {
     "name": "stdout",
     "output_type": "stream",
     "text": [
      "returnedValue = None\n"
     ]
    }
   ],
   "source": [
    "import findspark\n",
    "returnedValue = findspark.init()\n",
    "print(\"returnedValue =\", returnedValue)\n"
   ]
  },
  {
   "cell_type": "code",
   "execution_count": 3,
   "metadata": {},
   "outputs": [],
   "source": [
    "# create configuration\n",
    "# import 2 modules\n",
    "from pyspark import SparkConf, SparkContext\n"
   ]
  },
  {
   "cell_type": "code",
   "execution_count": 4,
   "metadata": {},
   "outputs": [
    {
     "name": "stdout",
     "output_type": "stream",
     "text": [
      "conf = <pyspark.conf.SparkConf object at 0x0A80BF30>\n",
      "sc = <SparkContext master=local appName=my first app>\n"
     ]
    }
   ],
   "source": [
    "conf = SparkConf().setMaster(\"local\").setAppName(\"my first app\")\n",
    "print (\"conf =\", conf)\n",
    "# the local machine will be our master\n",
    "# and it will have the name \"my first app\"\n",
    "sc = SparkContext(conf = conf)\n",
    "print (\"sc =\", sc)\n"
   ]
  },
  {
   "cell_type": "code",
   "execution_count": 9,
   "metadata": {
    "scrolled": true
   },
   "outputs": [
    {
     "name": "stdout",
     "output_type": "stream",
     "text": [
      "myRdd1 = ParallelCollectionRDD[6] at parallelize at PythonRDD.scala:195\n",
      "hello world "
     ]
    }
   ],
   "source": [
    "# create the simplest object, RDD type, using spark\n",
    "myRdd1 = sc.parallelize([\"hello\", \"world\"])\n",
    "print (\"myRdd1 =\", myRdd1)\n",
    "# take with number makes it safer\n",
    "for wordIndex in myRdd1.take(2):\n",
    "    # hello world should be in the same line delimited by a space\n",
    "    print (wordIndex, end = \" \")\n",
    "\n"
   ]
  },
  {
   "cell_type": "code",
   "execution_count": 6,
   "metadata": {},
   "outputs": [
    {
     "name": "stdout",
     "output_type": "stream",
     "text": [
      "readable = ['word1', 'word2']\n"
     ]
    }
   ],
   "source": [
    "# try the text file instead of a list \n",
    "myRdd2 = sc.textFile(\"myTextFile.txt\")\n",
    "readable = myRdd2.collect()\n",
    "print (\"readable =\", readable)\n"
   ]
  },
  {
   "cell_type": "code",
   "execution_count": 10,
   "metadata": {},
   "outputs": [
    {
     "data": {
      "text/html": [
       "\n",
       "        <div>\n",
       "            <p><b>SparkContext</b></p>\n",
       "\n",
       "            <p><a href=\"http://142.151.170.158:4040\">Spark UI</a></p>\n",
       "\n",
       "            <dl>\n",
       "              <dt>Version</dt>\n",
       "                <dd><code>v2.4.2</code></dd>\n",
       "              <dt>Master</dt>\n",
       "                <dd><code>local</code></dd>\n",
       "              <dt>AppName</dt>\n",
       "                <dd><code>my first app</code></dd>\n",
       "            </dl>\n",
       "        </div>\n",
       "        "
      ],
      "text/plain": [
       "<SparkContext master=local appName=my first app>"
      ]
     },
     "execution_count": 10,
     "metadata": {},
     "output_type": "execute_result"
    }
   ],
   "source": [
    "# interface\n",
    "sc"
   ]
  },
  {
   "cell_type": "code",
   "execution_count": 10,
   "metadata": {},
   "outputs": [
    {
     "name": "stdout",
     "output_type": "stream",
     "text": [
      "20\n",
      "myRdd1 = ParallelCollectionRDD[8] at parallelize at PythonRDD.scala:195\n",
      "hello in 123 = False\n",
      "hello in hello world = True\n",
      "hello1 "
     ]
    }
   ],
   "source": [
    "# first, about the lambda function general concept\n",
    "# Lambda function is nameless, and it returns something on the fly\n",
    "x = lambda b, c: b - c + 10\n",
    "print(x(50, 40))\n",
    "myRdd1 = sc.parallelize([\"hello1\", \"world\"])\n",
    "\n",
    "# another example, something more useful\n",
    "# find a word in our RDD object\n",
    "# If we go the way of functional programming, we use a filter function\n",
    "myRdd2 = myRdd1.filter(lambda x: \"hello\" in x)\n",
    "# alternative through the regular function\n",
    "# x is some data structure, like a document\n",
    "def containsHello (x):\n",
    "    helloInX = \"hello\" in x\n",
    "    return helloInX\n",
    "\n",
    "print (\"myRdd1 =\", myRdd1)\n",
    "myRdd3 = myRdd1.filter(containsHello)\n",
    "\n",
    "print (\"hello in 123 =\", containsHello(\"123\"))\n",
    "print (\"hello in hello world =\", containsHello(\"hello world\"))\n",
    "\n",
    "\n",
    "# first in more stupid way throu take\n",
    "for word in myRdd3.take(3):\n",
    "    # hello world should be in the same line delimited by a space\n",
    "    print (word, end = \" \")\n"
   ]
  },
  {
   "cell_type": "code",
   "execution_count": null,
   "metadata": {},
   "outputs": [],
   "source": []
  }
 ],
 "metadata": {
  "kernelspec": {
   "display_name": "Python 3",
   "language": "python",
   "name": "python3"
  },
  "language_info": {
   "codemirror_mode": {
    "name": "ipython",
    "version": 3
   },
   "file_extension": ".py",
   "mimetype": "text/x-python",
   "name": "python",
   "nbconvert_exporter": "python",
   "pygments_lexer": "ipython3",
   "version": "3.7.3"
  }
 },
 "nbformat": 4,
 "nbformat_minor": 2
}
